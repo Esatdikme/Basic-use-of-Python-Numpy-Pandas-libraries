{
 "cells": [
  {
   "cell_type": "code",
   "execution_count": 1,
   "id": "6c85e0ea",
   "metadata": {},
   "outputs": [],
   "source": [
    "import pandas as pd\n"
   ]
  },
  {
   "cell_type": "code",
   "execution_count": 12,
   "id": "8395bacd",
   "metadata": {},
   "outputs": [],
   "source": [
    "df=pd.read_csv(\"imdb.csv\")"
   ]
  },
  {
   "cell_type": "code",
   "execution_count": 15,
   "id": "0cd7105f",
   "metadata": {},
   "outputs": [
    {
     "data": {
      "text/html": [
       "<div>\n",
       "<style scoped>\n",
       "    .dataframe tbody tr th:only-of-type {\n",
       "        vertical-align: middle;\n",
       "    }\n",
       "\n",
       "    .dataframe tbody tr th {\n",
       "        vertical-align: top;\n",
       "    }\n",
       "\n",
       "    .dataframe thead th {\n",
       "        text-align: right;\n",
       "    }\n",
       "</style>\n",
       "<table border=\"1\" class=\"dataframe\">\n",
       "  <thead>\n",
       "    <tr style=\"text-align: right;\">\n",
       "      <th></th>\n",
       "      <th>Movie_Title</th>\n",
       "      <th>YR_Released</th>\n",
       "      <th>Rating</th>\n",
       "      <th>Num_Reviews</th>\n",
       "      <th>Movie_ID</th>\n",
       "      <th>Record</th>\n",
       "      <th>Runtime</th>\n",
       "    </tr>\n",
       "  </thead>\n",
       "  <tbody>\n",
       "    <tr>\n",
       "      <th>0</th>\n",
       "      <td>Code Name: K.O.Z.</td>\n",
       "      <td>2015</td>\n",
       "      <td>1.4</td>\n",
       "      <td>24623</td>\n",
       "      <td>tt4458206</td>\n",
       "      <td>Bottom 250 Movies</td>\n",
       "      <td>114.0</td>\n",
       "    </tr>\n",
       "    <tr>\n",
       "      <th>1</th>\n",
       "      <td>Saving Christmas</td>\n",
       "      <td>2014</td>\n",
       "      <td>1.5</td>\n",
       "      <td>12765</td>\n",
       "      <td>tt4009460</td>\n",
       "      <td>Bottom 250 Movies</td>\n",
       "      <td>80.0</td>\n",
       "    </tr>\n",
       "    <tr>\n",
       "      <th>2</th>\n",
       "      <td>Superbabies: Baby Geniuses 2</td>\n",
       "      <td>2004</td>\n",
       "      <td>1.6</td>\n",
       "      <td>26505</td>\n",
       "      <td>tt0270846</td>\n",
       "      <td>Bottom 250 Movies</td>\n",
       "      <td>88.0</td>\n",
       "    </tr>\n",
       "    <tr>\n",
       "      <th>3</th>\n",
       "      <td>Daniel the Wizard</td>\n",
       "      <td>2004</td>\n",
       "      <td>1.6</td>\n",
       "      <td>13295</td>\n",
       "      <td>tt0421051</td>\n",
       "      <td>Bottom 250 Movies</td>\n",
       "      <td>81.0</td>\n",
       "    </tr>\n",
       "    <tr>\n",
       "      <th>4</th>\n",
       "      <td>Manos: The Hands of Fate</td>\n",
       "      <td>1966</td>\n",
       "      <td>1.7</td>\n",
       "      <td>31808</td>\n",
       "      <td>tt0060666</td>\n",
       "      <td>Bottom 250 Movies</td>\n",
       "      <td>70.0</td>\n",
       "    </tr>\n",
       "    <tr>\n",
       "      <th>5</th>\n",
       "      <td>Pledge This!</td>\n",
       "      <td>2006</td>\n",
       "      <td>1.7</td>\n",
       "      <td>15836</td>\n",
       "      <td>tt0417056</td>\n",
       "      <td>Bottom 250 Movies</td>\n",
       "      <td>91.0</td>\n",
       "    </tr>\n",
       "    <tr>\n",
       "      <th>6</th>\n",
       "      <td>Dünyayi Kurtaran Adam'in Oglu</td>\n",
       "      <td>2006</td>\n",
       "      <td>1.8</td>\n",
       "      <td>14110</td>\n",
       "      <td>tt0808240</td>\n",
       "      <td>Bottom 250 Movies</td>\n",
       "      <td>110.0</td>\n",
       "    </tr>\n",
       "    <tr>\n",
       "      <th>7</th>\n",
       "      <td>Foodfight!</td>\n",
       "      <td>2012</td>\n",
       "      <td>1.8</td>\n",
       "      <td>5740</td>\n",
       "      <td>tt0249516</td>\n",
       "      <td>Bottom 250 Movies</td>\n",
       "      <td>91.0</td>\n",
       "    </tr>\n",
       "    <tr>\n",
       "      <th>8</th>\n",
       "      <td>Birdemic: Shock and Terror</td>\n",
       "      <td>2010</td>\n",
       "      <td>1.8</td>\n",
       "      <td>15919</td>\n",
       "      <td>tt1316037</td>\n",
       "      <td>Bottom 250 Movies</td>\n",
       "      <td>105.0</td>\n",
       "    </tr>\n",
       "    <tr>\n",
       "      <th>9</th>\n",
       "      <td>Álom.net</td>\n",
       "      <td>2009</td>\n",
       "      <td>1.9</td>\n",
       "      <td>8502</td>\n",
       "      <td>tt1309000</td>\n",
       "      <td>Bottom 250 Movies</td>\n",
       "      <td>NaN</td>\n",
       "    </tr>\n",
       "  </tbody>\n",
       "</table>\n",
       "</div>"
      ],
      "text/plain": [
       "                     Movie_Title  YR_Released  Rating  Num_Reviews   Movie_ID  \\\n",
       "0              Code Name: K.O.Z.         2015     1.4        24623  tt4458206   \n",
       "1               Saving Christmas         2014     1.5        12765  tt4009460   \n",
       "2   Superbabies: Baby Geniuses 2         2004     1.6        26505  tt0270846   \n",
       "3              Daniel the Wizard         2004     1.6        13295  tt0421051   \n",
       "4       Manos: The Hands of Fate         1966     1.7        31808  tt0060666   \n",
       "5                   Pledge This!         2006     1.7        15836  tt0417056   \n",
       "6  Dünyayi Kurtaran Adam'in Oglu         2006     1.8        14110  tt0808240   \n",
       "7                     Foodfight!         2012     1.8         5740  tt0249516   \n",
       "8     Birdemic: Shock and Terror         2010     1.8        15919  tt1316037   \n",
       "9                       Álom.net         2009     1.9         8502  tt1309000   \n",
       "\n",
       "              Record  Runtime  \n",
       "0  Bottom 250 Movies    114.0  \n",
       "1  Bottom 250 Movies     80.0  \n",
       "2  Bottom 250 Movies     88.0  \n",
       "3  Bottom 250 Movies     81.0  \n",
       "4  Bottom 250 Movies     70.0  \n",
       "5  Bottom 250 Movies     91.0  \n",
       "6  Bottom 250 Movies    110.0  \n",
       "7  Bottom 250 Movies     91.0  \n",
       "8  Bottom 250 Movies    105.0  \n",
       "9  Bottom 250 Movies      NaN  "
      ]
     },
     "execution_count": 15,
     "metadata": {},
     "output_type": "execute_result"
    }
   ],
   "source": [
    "df.head(10)"
   ]
  },
  {
   "cell_type": "code",
   "execution_count": 14,
   "id": "6820eebe",
   "metadata": {},
   "outputs": [
    {
     "data": {
      "text/html": [
       "<div>\n",
       "<style scoped>\n",
       "    .dataframe tbody tr th:only-of-type {\n",
       "        vertical-align: middle;\n",
       "    }\n",
       "\n",
       "    .dataframe tbody tr th {\n",
       "        vertical-align: top;\n",
       "    }\n",
       "\n",
       "    .dataframe thead th {\n",
       "        text-align: right;\n",
       "    }\n",
       "</style>\n",
       "<table border=\"1\" class=\"dataframe\">\n",
       "  <thead>\n",
       "    <tr style=\"text-align: right;\">\n",
       "      <th></th>\n",
       "      <th>Movie_Title</th>\n",
       "      <th>YR_Released</th>\n",
       "      <th>Rating</th>\n",
       "      <th>Num_Reviews</th>\n",
       "      <th>Movie_ID</th>\n",
       "      <th>Record</th>\n",
       "      <th>Runtime</th>\n",
       "    </tr>\n",
       "  </thead>\n",
       "  <tbody>\n",
       "    <tr>\n",
       "      <th>845</th>\n",
       "      <td>Pirates of the Caribbean: The Curse of the Bla...</td>\n",
       "      <td>2003</td>\n",
       "      <td>8.0</td>\n",
       "      <td>872441</td>\n",
       "      <td>tt0325980</td>\n",
       "      <td>Top 250 Movies</td>\n",
       "      <td>143.0</td>\n",
       "    </tr>\n",
       "    <tr>\n",
       "      <th>846</th>\n",
       "      <td>What Ever Happened to Baby Jane?</td>\n",
       "      <td>1962</td>\n",
       "      <td>8.0</td>\n",
       "      <td>37906</td>\n",
       "      <td>tt0056687</td>\n",
       "      <td>Top 250 Movies</td>\n",
       "      <td>134.0</td>\n",
       "    </tr>\n",
       "    <tr>\n",
       "      <th>847</th>\n",
       "      <td>Paris, Texas</td>\n",
       "      <td>1984</td>\n",
       "      <td>8.0</td>\n",
       "      <td>55587</td>\n",
       "      <td>tt0087884</td>\n",
       "      <td>Top 250 Movies</td>\n",
       "      <td>145.0</td>\n",
       "    </tr>\n",
       "    <tr>\n",
       "      <th>848</th>\n",
       "      <td>Drishyam</td>\n",
       "      <td>2015</td>\n",
       "      <td>8.0</td>\n",
       "      <td>40777</td>\n",
       "      <td>tt4430212</td>\n",
       "      <td>Top 250 Movies</td>\n",
       "      <td>163.0</td>\n",
       "    </tr>\n",
       "    <tr>\n",
       "      <th>849</th>\n",
       "      <td>PK</td>\n",
       "      <td>2014</td>\n",
       "      <td>8.0</td>\n",
       "      <td>106375</td>\n",
       "      <td>tt2338151</td>\n",
       "      <td>Top 250 Movies</td>\n",
       "      <td>153.0</td>\n",
       "    </tr>\n",
       "  </tbody>\n",
       "</table>\n",
       "</div>"
      ],
      "text/plain": [
       "                                           Movie_Title  YR_Released  Rating  \\\n",
       "845  Pirates of the Caribbean: The Curse of the Bla...         2003     8.0   \n",
       "846                   What Ever Happened to Baby Jane?         1962     8.0   \n",
       "847                                       Paris, Texas         1984     8.0   \n",
       "848                                           Drishyam         2015     8.0   \n",
       "849                                                 PK         2014     8.0   \n",
       "\n",
       "     Num_Reviews   Movie_ID          Record  Runtime  \n",
       "845       872441  tt0325980  Top 250 Movies    143.0  \n",
       "846        37906  tt0056687  Top 250 Movies    134.0  \n",
       "847        55587  tt0087884  Top 250 Movies    145.0  \n",
       "848        40777  tt4430212  Top 250 Movies    163.0  \n",
       "849       106375  tt2338151  Top 250 Movies    153.0  "
      ]
     },
     "execution_count": 14,
     "metadata": {},
     "output_type": "execute_result"
    }
   ],
   "source": [
    "df.tail()"
   ]
  },
  {
   "cell_type": "code",
   "execution_count": 7,
   "id": "d4e73f5c",
   "metadata": {},
   "outputs": [
    {
     "data": {
      "text/plain": [
       "Index(['Movie_Title', 'YR_Released', 'Rating', 'Num_Reviews', 'Movie_ID',\n",
       "       'Record', 'Runtime'],\n",
       "      dtype='object')"
      ]
     },
     "execution_count": 7,
     "metadata": {},
     "output_type": "execute_result"
    }
   ],
   "source": [
    "df.columns"
   ]
  },
  {
   "cell_type": "code",
   "execution_count": 10,
   "id": "7e344a3c",
   "metadata": {},
   "outputs": [
    {
     "data": {
      "text/plain": [
       "(850, 7)"
      ]
     },
     "execution_count": 10,
     "metadata": {},
     "output_type": "execute_result"
    }
   ],
   "source": [
    "df.shape"
   ]
  },
  {
   "cell_type": "code",
   "execution_count": 11,
   "id": "e8c5564e",
   "metadata": {},
   "outputs": [
    {
     "name": "stdout",
     "output_type": "stream",
     "text": [
      "<class 'pandas.core.frame.DataFrame'>\n",
      "RangeIndex: 850 entries, 0 to 849\n",
      "Data columns (total 7 columns):\n",
      " #   Column       Non-Null Count  Dtype  \n",
      "---  ------       --------------  -----  \n",
      " 0   Movie_Title  850 non-null    object \n",
      " 1   YR_Released  850 non-null    int64  \n",
      " 2   Rating       850 non-null    float64\n",
      " 3   Num_Reviews  850 non-null    int64  \n",
      " 4   Movie_ID     850 non-null    object \n",
      " 5   Record       850 non-null    object \n",
      " 6   Runtime      849 non-null    float64\n",
      "dtypes: float64(2), int64(2), object(3)\n",
      "memory usage: 46.6+ KB\n"
     ]
    }
   ],
   "source": [
    "df.info()"
   ]
  },
  {
   "cell_type": "code",
   "execution_count": 23,
   "id": "b295180f",
   "metadata": {},
   "outputs": [
    {
     "name": "stdout",
     "output_type": "stream",
     "text": [
      "                        Movie_Title  Rating\n",
      "5                      Pledge This!     1.7\n",
      "6     Dünyayi Kurtaran Adam'in Oglu     1.8\n",
      "7                        Foodfight!     1.8\n",
      "8        Birdemic: Shock and Terror     1.8\n",
      "9                          Álom.net     1.9\n",
      "10   Titanic - La leggenda continua     1.9\n",
      "11                   Disaster Movie     1.9\n",
      "12                    Zombie Nation     1.9\n",
      "13          The Hottie & the Nottie     1.9\n",
      "14       Keloglan Karaprens'e Karsi     1.9\n",
      "15             From Justin to Kelly     1.9\n",
      "16                     A Fox's Tale     1.9\n",
      "17  Ram Gopal Varma's Indian Flames     1.9\n",
      "18                  Going Overboard     2.0\n",
      "19         Emret Komutanim: Sah Mat     2.0\n"
     ]
    }
   ],
   "source": [
    "#Information in rows 15 and 25 of columns \"Movie_Title\", \"Rating\"\n",
    "print(df[5:20][[\"Movie_Title\",\"Rating\"]])   "
   ]
  },
  {
   "cell_type": "code",
   "execution_count": 29,
   "id": "41569fa6",
   "metadata": {},
   "outputs": [
    {
     "name": "stdout",
     "output_type": "stream",
     "text": [
      "                  Movie_Title  Rating\n",
      "100  The Shawshank Redemption     9.2\n",
      "101             The Godfather     9.2\n",
      "102    The Godfather: Part II     9.0\n",
      "103           The Dark Knight     9.0\n",
      "600  The Shawshank Redemption     9.2\n",
      "601             The Godfather     9.2\n",
      "602    The Godfather: Part II     9.0\n",
      "603           The Dark Knight     9.0\n"
     ]
    }
   ],
   "source": [
    "#The data in the \"Movie_title\" and \"Rating\" columns with a rating value greater than 9.0 are\n",
    "\n",
    "\n",
    "\n",
    "print(df[df[\"Rating\"]>=9.0][[\"Movie_Title\",\"Rating\"]]) "
   ]
  },
  {
   "cell_type": "code",
   "execution_count": 33,
   "id": "a5cc6a69",
   "metadata": {},
   "outputs": [
    {
     "name": "stdout",
     "output_type": "stream",
     "text": [
      "                        Movie_Title  YR_Released\n",
      "51             Kyaa Kool Hain Hum 3         2016\n",
      "55                         Smolensk         2016\n",
      "176                     Baby Driver         2017\n",
      "206                      La La Land         2016\n",
      "207                           Logan         2017\n",
      "217                   Hacksaw Ridge         2016\n",
      "265          Spider-Man: Homecoming         2017\n",
      "297                            Lion         2016\n",
      "302                        Zootopia         2016\n",
      "303  Guardians of the Galaxy Vol. 2         2017\n",
      "340                        Deadpool         2016\n",
      "354                          Dangal         2016\n",
      "367     Baahubali 2: The Conclusion         2017\n",
      "389                            Pink         2016\n",
      "401                          Sairat         2016\n",
      "427                         Airlift         2016\n",
      "443                    Hindi Medium         2017\n",
      "451                     Udta Punjab         2016\n",
      "454                   Kapoor & Sons         2016\n",
      "464                          Neerja         2016\n",
      "473    M.S. Dhoni: The Untold Story         2016\n",
      "474                The Ghazi Attack         2017\n",
      "475                              24         2016\n",
      "488                   Saala Khadoos         2016\n",
      "502                         Madaari         2016\n",
      "507                    Dear Zindagi         2016\n",
      "530                Raman Raghav 2.0         2016\n",
      "545                     Jolly LLB 2         2017\n",
      "546                            Te3n         2016\n",
      "550                Nannaku Prematho         2016\n",
      "565                           Wazir         2016\n",
      "578                Sanam Teri Kasam         2016\n",
      "579                The Great Father         2017\n",
      "586                          Sultan         2016\n",
      "587                          Rustom         2016\n",
      "592                          Kaabil         2017\n",
      "670                          Dangal         2016\n",
      "691                   Kimi no na wa         2016\n",
      "729                     Baby Driver         2017\n",
      "739                      La La Land         2016\n",
      "747                           Logan         2017\n",
      "761                   Hacksaw Ridge         2016\n"
     ]
    }
   ],
   "source": [
    "#The names of the films with a release date between Dec 2016 and 2018\n",
    "\n",
    "\n",
    "print(df[(df[\"YR_Released\"]>=2016) & (df[\"YR_Released\"]<=2018)][[\"Movie_Title\",\"YR_Released\"]])"
   ]
  },
  {
   "cell_type": "code",
   "execution_count": 36,
   "id": "2b3e2016",
   "metadata": {},
   "outputs": [
    {
     "name": "stdout",
     "output_type": "stream",
     "text": [
      "                                           Movie_Title  Rating  Num_Reviews\n",
      "100                           The Shawshank Redemption     9.2      1829037\n",
      "101                                      The Godfather     9.2      1249333\n",
      "102                             The Godfather: Part II     9.0       860228\n",
      "103                                    The Dark Knight     9.0      1808543\n",
      "104                                       12 Angry Men     8.9       497242\n",
      "..                                                 ...     ...          ...\n",
      "845  Pirates of the Caribbean: The Curse of the Bla...     8.0       872441\n",
      "846                   What Ever Happened to Baby Jane?     8.0        37906\n",
      "847                                       Paris, Texas     8.0        55587\n",
      "848                                           Drishyam     8.0        40777\n",
      "849                                                 PK     8.0       106375\n",
      "\n",
      "[573 rows x 3 columns]\n"
     ]
    }
   ],
   "source": [
    "\"\"\"Num_Revies 'Movie_Title', 'Rating', 'Num_Reviews' columns for movies with a rating greater than 100000 or\n",
    "a rating score between 8.0 and 9.0 The 'Movie_Title', 'Rating', 'Num_Reviews' columns Decode the\"\"\"\n",
    "\n",
    "\n",
    "print(df[(df[\"Num_Reviews\"]>=100000)|((df[\"Rating\"]>=8.0)&(df[\"Rating\"]<=9.0))][['Movie_Title','Rating','Num_Reviews']])"
   ]
  },
  {
   "cell_type": "code",
   "execution_count": 34,
   "id": "2a35367b",
   "metadata": {},
   "outputs": [
    {
     "data": {
      "text/plain": [
       "Index(['Movie_Title', 'YR_Released', 'Rating', 'Num_Reviews', 'Movie_ID',\n",
       "       'Record', 'Runtime'],\n",
       "      dtype='object')"
      ]
     },
     "execution_count": 34,
     "metadata": {},
     "output_type": "execute_result"
    }
   ],
   "source": [
    "df.columns"
   ]
  },
  {
   "cell_type": "code",
   "execution_count": null,
   "id": "b427da78",
   "metadata": {},
   "outputs": [],
   "source": []
  }
 ],
 "metadata": {
  "kernelspec": {
   "display_name": "Python 3 (ipykernel)",
   "language": "python",
   "name": "python3"
  },
  "language_info": {
   "codemirror_mode": {
    "name": "ipython",
    "version": 3
   },
   "file_extension": ".py",
   "mimetype": "text/x-python",
   "name": "python",
   "nbconvert_exporter": "python",
   "pygments_lexer": "ipython3",
   "version": "3.9.12"
  }
 },
 "nbformat": 4,
 "nbformat_minor": 5
}
