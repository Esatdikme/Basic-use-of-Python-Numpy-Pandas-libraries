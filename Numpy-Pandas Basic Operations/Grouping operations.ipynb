{
 "cells": [
  {
   "cell_type": "code",
   "execution_count": 1,
   "id": "b836dca5",
   "metadata": {},
   "outputs": [],
   "source": [
    "import pandas as pd\n",
    "import numpy as np"
   ]
  },
  {
   "cell_type": "code",
   "execution_count": 2,
   "id": "001e9f50",
   "metadata": {},
   "outputs": [],
   "source": [
    "df=pd.read_csv(\"imdb.csv\")"
   ]
  },
  {
   "cell_type": "code",
   "execution_count": 37,
   "id": "908433a7",
   "metadata": {},
   "outputs": [
    {
     "data": {
      "text/html": [
       "<div>\n",
       "<style scoped>\n",
       "    .dataframe tbody tr th:only-of-type {\n",
       "        vertical-align: middle;\n",
       "    }\n",
       "\n",
       "    .dataframe tbody tr th {\n",
       "        vertical-align: top;\n",
       "    }\n",
       "\n",
       "    .dataframe thead th {\n",
       "        text-align: right;\n",
       "    }\n",
       "</style>\n",
       "<table border=\"1\" class=\"dataframe\">\n",
       "  <thead>\n",
       "    <tr style=\"text-align: right;\">\n",
       "      <th></th>\n",
       "      <th>Movie_Title</th>\n",
       "      <th>YR_Released</th>\n",
       "      <th>Rating</th>\n",
       "      <th>Num_Reviews</th>\n",
       "      <th>Movie_ID</th>\n",
       "      <th>Record</th>\n",
       "      <th>Runtime</th>\n",
       "    </tr>\n",
       "  </thead>\n",
       "  <tbody>\n",
       "    <tr>\n",
       "      <th>0</th>\n",
       "      <td>Code Name: K.O.Z.</td>\n",
       "      <td>2015</td>\n",
       "      <td>1.4</td>\n",
       "      <td>24623</td>\n",
       "      <td>tt4458206</td>\n",
       "      <td>Bottom 250 Movies</td>\n",
       "      <td>114.0</td>\n",
       "    </tr>\n",
       "    <tr>\n",
       "      <th>1</th>\n",
       "      <td>Saving Christmas</td>\n",
       "      <td>2014</td>\n",
       "      <td>1.5</td>\n",
       "      <td>12765</td>\n",
       "      <td>tt4009460</td>\n",
       "      <td>Bottom 250 Movies</td>\n",
       "      <td>80.0</td>\n",
       "    </tr>\n",
       "    <tr>\n",
       "      <th>2</th>\n",
       "      <td>Superbabies: Baby Geniuses 2</td>\n",
       "      <td>2004</td>\n",
       "      <td>1.6</td>\n",
       "      <td>26505</td>\n",
       "      <td>tt0270846</td>\n",
       "      <td>Bottom 250 Movies</td>\n",
       "      <td>88.0</td>\n",
       "    </tr>\n",
       "    <tr>\n",
       "      <th>3</th>\n",
       "      <td>Daniel the Wizard</td>\n",
       "      <td>2004</td>\n",
       "      <td>1.6</td>\n",
       "      <td>13295</td>\n",
       "      <td>tt0421051</td>\n",
       "      <td>Bottom 250 Movies</td>\n",
       "      <td>81.0</td>\n",
       "    </tr>\n",
       "    <tr>\n",
       "      <th>4</th>\n",
       "      <td>Manos: The Hands of Fate</td>\n",
       "      <td>1966</td>\n",
       "      <td>1.7</td>\n",
       "      <td>31808</td>\n",
       "      <td>tt0060666</td>\n",
       "      <td>Bottom 250 Movies</td>\n",
       "      <td>70.0</td>\n",
       "    </tr>\n",
       "    <tr>\n",
       "      <th>5</th>\n",
       "      <td>Pledge This!</td>\n",
       "      <td>2006</td>\n",
       "      <td>1.7</td>\n",
       "      <td>15836</td>\n",
       "      <td>tt0417056</td>\n",
       "      <td>Bottom 250 Movies</td>\n",
       "      <td>91.0</td>\n",
       "    </tr>\n",
       "    <tr>\n",
       "      <th>6</th>\n",
       "      <td>Dünyayi Kurtaran Adam'in Oglu</td>\n",
       "      <td>2006</td>\n",
       "      <td>1.8</td>\n",
       "      <td>14110</td>\n",
       "      <td>tt0808240</td>\n",
       "      <td>Bottom 250 Movies</td>\n",
       "      <td>110.0</td>\n",
       "    </tr>\n",
       "    <tr>\n",
       "      <th>7</th>\n",
       "      <td>Foodfight!</td>\n",
       "      <td>2012</td>\n",
       "      <td>1.8</td>\n",
       "      <td>5740</td>\n",
       "      <td>tt0249516</td>\n",
       "      <td>Bottom 250 Movies</td>\n",
       "      <td>91.0</td>\n",
       "    </tr>\n",
       "    <tr>\n",
       "      <th>8</th>\n",
       "      <td>Birdemic: Shock and Terror</td>\n",
       "      <td>2010</td>\n",
       "      <td>1.8</td>\n",
       "      <td>15919</td>\n",
       "      <td>tt1316037</td>\n",
       "      <td>Bottom 250 Movies</td>\n",
       "      <td>105.0</td>\n",
       "    </tr>\n",
       "    <tr>\n",
       "      <th>9</th>\n",
       "      <td>Álom.net</td>\n",
       "      <td>2009</td>\n",
       "      <td>1.9</td>\n",
       "      <td>8502</td>\n",
       "      <td>tt1309000</td>\n",
       "      <td>Bottom 250 Movies</td>\n",
       "      <td>NaN</td>\n",
       "    </tr>\n",
       "  </tbody>\n",
       "</table>\n",
       "</div>"
      ],
      "text/plain": [
       "                     Movie_Title  YR_Released  Rating  Num_Reviews   Movie_ID  \\\n",
       "0              Code Name: K.O.Z.         2015     1.4        24623  tt4458206   \n",
       "1               Saving Christmas         2014     1.5        12765  tt4009460   \n",
       "2   Superbabies: Baby Geniuses 2         2004     1.6        26505  tt0270846   \n",
       "3              Daniel the Wizard         2004     1.6        13295  tt0421051   \n",
       "4       Manos: The Hands of Fate         1966     1.7        31808  tt0060666   \n",
       "5                   Pledge This!         2006     1.7        15836  tt0417056   \n",
       "6  Dünyayi Kurtaran Adam'in Oglu         2006     1.8        14110  tt0808240   \n",
       "7                     Foodfight!         2012     1.8         5740  tt0249516   \n",
       "8     Birdemic: Shock and Terror         2010     1.8        15919  tt1316037   \n",
       "9                       Álom.net         2009     1.9         8502  tt1309000   \n",
       "\n",
       "              Record  Runtime  \n",
       "0  Bottom 250 Movies    114.0  \n",
       "1  Bottom 250 Movies     80.0  \n",
       "2  Bottom 250 Movies     88.0  \n",
       "3  Bottom 250 Movies     81.0  \n",
       "4  Bottom 250 Movies     70.0  \n",
       "5  Bottom 250 Movies     91.0  \n",
       "6  Bottom 250 Movies    110.0  \n",
       "7  Bottom 250 Movies     91.0  \n",
       "8  Bottom 250 Movies    105.0  \n",
       "9  Bottom 250 Movies      NaN  "
      ]
     },
     "execution_count": 37,
     "metadata": {},
     "output_type": "execute_result"
    }
   ],
   "source": [
    "df.head(10)"
   ]
  },
  {
   "cell_type": "code",
   "execution_count": 5,
   "id": "3a0ca9c4",
   "metadata": {},
   "outputs": [
    {
     "data": {
      "text/plain": [
       "Index(['Movie_Title', 'YR_Released', 'Rating', 'Num_Reviews', 'Movie_ID',\n",
       "       'Record', 'Runtime'],\n",
       "      dtype='object')"
      ]
     },
     "execution_count": 5,
     "metadata": {},
     "output_type": "execute_result"
    }
   ],
   "source": [
    "df.columns"
   ]
  },
  {
   "cell_type": "code",
   "execution_count": 9,
   "id": "9f39c1e7",
   "metadata": {},
   "outputs": [
    {
     "name": "stdout",
     "output_type": "stream",
     "text": [
      "{1921: [165, 695], 1925: [198, 732], 1926: [202, 752], 1927: [709, 757], 1928: [771], 1930: [295], 1931: [124, 634, 676], 1934: [227, 782], 1935: [317], 1936: [127, 637], 1939: [201, 218, 284, 744, 762, 831], 1940: [143, 220, 256, 325, 347, 653, 773, 816], 1941: [156, 250, 669, 805], 1942: [128, 633], 1944: [95, 162, 280, 314, 683], 1945: [254, 345], 1946: [119, 255, 320, 327, 623, 838], 1947: [287], 1948: [186, 326, 694, 716], 1949: [191, 249, 721], 1950: [144, 181, 321, 651, 707, 711], 1951: [293, 313], 1952: [170, 311, 690, 726], 1953: [286, 308, 768, 789], 1954: [133, 200, 216, 618, 639, 733, 758], 1955: [294, 360, 822], 1956: [318, 391], 1957: [104, 147, 150, 204, 414, 604, 657, 667, 736, 742, 750, 809], 1958: [83, 158, 264, 283, 672, 820], 1959: [71, 87, 157, 188, 246, 288, 324, 383, 671, 715, 793, 794], 1960: [84, 130, 180, 632, 706], 1961: [32, 58, 193, 316, 712, 741], 1962: [46, 164, 168, 261, 279, 339, 681, 686, 846], 1963: [61, 195, 724, 830], 1964: [43, 59, 73, 146, 652], 1965: [26, 701], 1966: [4, 36, 39, 289, 608, 749, 799, 843], 1967: [223, 331, 772], 1968: [62, 174, 629, 689], 1969: [251, 341, 801], 1970: [344], 1971: [60, 67, 166, 271, 350, 680], 1972: [101, 285, 601], 1973: [172, 312, 323, 692], 1974: [96, 102, 199, 307, 602, 725], 1975: [85, 114, 182, 273, 300, 301, 361, 369, 411, 615, 699, 815, 832, 836, 842], 1976: [56, 171, 219, 239, 274, 682, 790, 818], 1977: [117, 275, 619, 823], 1978: [88, 222, 446, 760], 1979: [141, 145, 238, 355, 649, 650, 784, 807], 1980: [52, 111, 149, 194, 212, 612, 659, 719, 748], 1981: [131, 638, 668], 1982: [208, 226, 272, 328, 737, 766, 821], 1983: [37, 99, 159, 183, 330, 358, 673, 704], 1984: [70, 78, 92, 154, 167, 270, 290, 666, 685, 812, 829, 847], 1985: [45, 137, 643, 731, 778], 1986: [155, 244, 247, 664, 785, 792], 1987: [44, 77, 175, 260, 352, 447, 688, 810], 1988: [30, 35, 197, 336, 486, 654, 656, 720, 728], 1989: [18, 98, 187, 310, 519, 710], 1990: [69, 115, 460, 616], 1991: [120, 136, 296, 332, 362, 622, 642, 841], 1992: [161, 192, 342, 377, 396, 513, 591, 674, 717], 1993: [105, 241, 263, 291, 338, 468, 476, 605, 791, 802, 833], 1994: [81, 91, 94, 100, 107, 110, 122, 139, 373, 467, 491, 554, 600, 606, 611, 626, 648], 1995: [79, 86, 118, 121, 160, 177, 196, 210, 266, 298, 405, 407, 419, 497, 621, 625, 675, 693, 723, 745, 813, 834, 835], 1996: [65, 76, 89, 221, 228, 333, 423, 755, 756, 763], 1997: [97, 184, 185, 441, 514, 585, 588, 624, 663, 700, 703, 722], 1998: [47, 64, 123, 126, 209, 225, 252, 267, 388, 457, 471, 487, 524, 559, 627, 630, 743, 764, 808], 1999: [23, 68, 72, 108, 116, 129, 153, 229, 335, 348, 397, 426, 493, 609, 617, 635, 661, 765], 2000: [10, 53, 138, 142, 163, 179, 371, 432, 584, 645, 646, 677, 698, 804, 827, 844], 2001: [31, 109, 211, 277, 281, 390, 393, 453, 455, 516, 520, 562, 610, 628, 678, 746, 825, 826], 2002: [22, 90, 113, 132, 278, 410, 421, 481, 490, 594, 614, 620, 640, 824, 837], 2003: [15, 27, 50, 57, 106, 230, 236, 304, 309, 343, 353, 372, 399, 431, 438, 445, 496, 509, 574, 582, 607, 665, 767, 777, 803, 806, 845], 2004: [2, 3, 12, 38, 66, 80, 169, 243, 262, 305, 356, 379, 434, 435, 461, 492, 498, 510, 581, 596, 684, 718, 738, 787, 800], 2005: [33, 42, 54, 189, 214, 315, 376, 398, 412, 418, 465, 489, 506, 522, 531, 590, 705, 713, 751], 2006: [5, 6, 14, 34, 40, 134, 140, 334, 363, 366, 402, 403, 406, 462, 527, 542, 556, 558, 641, 647, 655, 727, 770], 2007: [17, 19, 28, 41, 48, 232, 234, 235, 282, 357, 385, 424, 436, 456, 469, 517, 521, 538, 541, 569, 571, 583, 679, 769, 775, 781, 828], 2008: [11, 13, 16, 93, 103, 152, 224, 349, 364, 440, 444, 448, 458, 478, 501, 533, 567, 576, 595, 603, 660, 759, 774], 2009: [9, 82, 178, 190, 231, 248, 359, 416, 417, 479, 482, 500, 515, 549, 552, 573, 696, 697, 714, 734, 779, 811], 2010: [8, 74, 112, 173, 233, 240, 329, 384, 437, 503, 512, 518, 525, 526, 535, 543, 564, 570, 589, 613, 687, 740, 776, 783], 2011: [213, 268, 292, 404, 463, 483, 485, 508, 532, 539, 544, 598, 636, 708, 754, 817, 840], 2012: [7, 20, 63, 75, 148, 151, 319, 374, 378, 380, 381, 387, 395, 408, 439, 452, 459, 504, 540, 548, 553, 593, 658, 662, 702, 839], 2013: [24, 25, 215, 242, 257, 276, 346, 351, 375, 382, 409, 420, 422, 429, 450, 466, 472, 495, 523, 528, 547, 575, 577, 599, 753, 788, 798, 819], 2014: [1, 29, 49, 125, 135, 237, 245, 258, 299, 306, 386, 394, 400, 413, 442, 480, 494, 499, 529, 536, 560, 572, 580, 597, 631, 644, 780, 786, 795, 849], 2015: [0, 21, 203, 205, 253, 259, 269, 322, 337, 365, 368, 370, 392, 415, 425, 428, 430, 433, 449, 470, 477, 484, 505, 511, 534, 537, 551, 555, 557, 561, 563, 566, 568, 730, 735, 796, 797, 814, 848], 2016: [51, 55, 206, 217, 297, 302, 340, 354, 389, 401, 427, 451, 454, 464, 473, 475, 488, 502, 507, 530, 546, 550, 565, 578, 586, 587, 670, 691, 739, 761], 2017: [176, 207, 265, 303, 367, 443, 474, 545, 579, 592, 729, 747]}\n"
     ]
    }
   ],
   "source": [
    "#grouping of df by years\n",
    "\n",
    "\n",
    "print(df.groupby(\"YR_Released\").groups)"
   ]
  },
  {
   "cell_type": "code",
   "execution_count": 11,
   "id": "84636f37",
   "metadata": {},
   "outputs": [
    {
     "name": "stdout",
     "output_type": "stream",
     "text": [
      "YR_Released\n",
      "1921     2\n",
      "1925     2\n",
      "1926     2\n",
      "1927     2\n",
      "1928     1\n",
      "        ..\n",
      "2013    28\n",
      "2014    30\n",
      "2015    39\n",
      "2016    30\n",
      "2017    12\n",
      "Name: Movie_Title, Length: 88, dtype: int64\n"
     ]
    }
   ],
   "source": [
    "#How many movies are there in which year\n",
    "\n",
    "result=df.groupby(\"YR_Released\")[\"Movie_Title\"].count()\n",
    "print(result)"
   ]
  },
  {
   "cell_type": "code",
   "execution_count": 30,
   "id": "94a02acd",
   "metadata": {},
   "outputs": [
    {
     "name": "stdout",
     "output_type": "stream",
     "text": [
      "YR_Released\n",
      "1921    8.3\n",
      "1925    8.2\n",
      "1926    8.2\n",
      "1927    8.2\n",
      "1928    8.1\n",
      "       ... \n",
      "2013    8.6\n",
      "2014    8.5\n",
      "2015    8.2\n",
      "2016    8.5\n",
      "2017    8.3\n",
      "Name: Rating, Length: 88, dtype: float64\n"
     ]
    }
   ],
   "source": [
    "#The highest Ratings by years\n",
    "\n",
    "result=df.groupby(\"YR_Released\")[\"Rating\"].max()\n",
    "print(result)"
   ]
  },
  {
   "cell_type": "code",
   "execution_count": 34,
   "id": "9a0bfcd7",
   "metadata": {
    "scrolled": true
   },
   "outputs": [
    {
     "name": "stdout",
     "output_type": "stream",
     "text": [
      "YR_Released\n",
      "1970    172.000000\n",
      "1972    162.666667\n",
      "1939    156.333333\n",
      "1978    154.250000\n",
      "2012    148.307692\n",
      "           ...    \n",
      "1931     91.000000\n",
      "1936     87.000000\n",
      "1964     86.200000\n",
      "1921     68.000000\n",
      "1926     67.000000\n",
      "Name: Runtime, Length: 88, dtype: float64\n"
     ]
    }
   ],
   "source": [
    "#sorting Runtime averages by years from large to small\n",
    "\n",
    "result=df.groupby(\"YR_Released\").mean().sort_values(by=\"Runtime\", ascending=False)[\"Runtime\"]\n",
    "print(result)"
   ]
  },
  {
   "cell_type": "code",
   "execution_count": null,
   "id": "10c01f2c",
   "metadata": {},
   "outputs": [],
   "source": []
  }
 ],
 "metadata": {
  "kernelspec": {
   "display_name": "Python 3 (ipykernel)",
   "language": "python",
   "name": "python3"
  },
  "language_info": {
   "codemirror_mode": {
    "name": "ipython",
    "version": 3
   },
   "file_extension": ".py",
   "mimetype": "text/x-python",
   "name": "python",
   "nbconvert_exporter": "python",
   "pygments_lexer": "ipython3",
   "version": "3.9.12"
  }
 },
 "nbformat": 4,
 "nbformat_minor": 5
}
