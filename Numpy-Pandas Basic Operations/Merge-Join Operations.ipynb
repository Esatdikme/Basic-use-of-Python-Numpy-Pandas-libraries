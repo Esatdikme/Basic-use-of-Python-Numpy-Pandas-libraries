{
 "cells": [
  {
   "cell_type": "code",
   "execution_count": 1,
   "id": "081cdfa2",
   "metadata": {},
   "outputs": [],
   "source": [
    "import pandas as pd"
   ]
  },
  {
   "cell_type": "code",
   "execution_count": 2,
   "id": "fdfb4321",
   "metadata": {},
   "outputs": [],
   "source": [
    "customers = {\n",
    "    'Id': [1, 2, 3],\n",
    "    'FistName': [\"xxxx\", \"yyyy\", \"zzzz\"],\n",
    "    'LastName': [\"aaaa\", \"bbbb\", \"cccc\"]\n",
    "}\n",
    "\n",
    "orders = {\n",
    "    'OrderNo': [1001, 1002, 1003, 1004, 1005],\n",
    "    'Id': [1, 2, 3, 4, 5],\n",
    "    \"OrderDate\": [\"2022-08-01\", \"2021-02-12\", \"2012-12-14\", \"2008-02-13\", \"2016-04-12\"]\n",
    "}"
   ]
  },
  {
   "cell_type": "code",
   "execution_count": 6,
   "id": "bbb5443b",
   "metadata": {},
   "outputs": [],
   "source": [
    "df_customer = pd.DataFrame(customers, columns=[\"Id\", \"FistName\", \"LastName\"])\n",
    "df_orders = pd.DataFrame(orders, columns=['OrderId', 'Id', 'OrderDate'])"
   ]
  },
  {
   "cell_type": "code",
   "execution_count": 7,
   "id": "12e24544",
   "metadata": {},
   "outputs": [
    {
     "data": {
      "text/html": [
       "<div>\n",
       "<style scoped>\n",
       "    .dataframe tbody tr th:only-of-type {\n",
       "        vertical-align: middle;\n",
       "    }\n",
       "\n",
       "    .dataframe tbody tr th {\n",
       "        vertical-align: top;\n",
       "    }\n",
       "\n",
       "    .dataframe thead th {\n",
       "        text-align: right;\n",
       "    }\n",
       "</style>\n",
       "<table border=\"1\" class=\"dataframe\">\n",
       "  <thead>\n",
       "    <tr style=\"text-align: right;\">\n",
       "      <th></th>\n",
       "      <th>Id</th>\n",
       "      <th>FistName</th>\n",
       "      <th>LastName</th>\n",
       "    </tr>\n",
       "  </thead>\n",
       "  <tbody>\n",
       "    <tr>\n",
       "      <th>0</th>\n",
       "      <td>1</td>\n",
       "      <td>xxxx</td>\n",
       "      <td>aaaa</td>\n",
       "    </tr>\n",
       "    <tr>\n",
       "      <th>1</th>\n",
       "      <td>2</td>\n",
       "      <td>yyyy</td>\n",
       "      <td>bbbb</td>\n",
       "    </tr>\n",
       "    <tr>\n",
       "      <th>2</th>\n",
       "      <td>3</td>\n",
       "      <td>zzzz</td>\n",
       "      <td>cccc</td>\n",
       "    </tr>\n",
       "  </tbody>\n",
       "</table>\n",
       "</div>"
      ],
      "text/plain": [
       "   Id FistName LastName\n",
       "0   1     xxxx     aaaa\n",
       "1   2     yyyy     bbbb\n",
       "2   3     zzzz     cccc"
      ]
     },
     "execution_count": 7,
     "metadata": {},
     "output_type": "execute_result"
    }
   ],
   "source": [
    "df_customer"
   ]
  },
  {
   "cell_type": "code",
   "execution_count": 8,
   "id": "16775f19",
   "metadata": {},
   "outputs": [
    {
     "data": {
      "text/html": [
       "<div>\n",
       "<style scoped>\n",
       "    .dataframe tbody tr th:only-of-type {\n",
       "        vertical-align: middle;\n",
       "    }\n",
       "\n",
       "    .dataframe tbody tr th {\n",
       "        vertical-align: top;\n",
       "    }\n",
       "\n",
       "    .dataframe thead th {\n",
       "        text-align: right;\n",
       "    }\n",
       "</style>\n",
       "<table border=\"1\" class=\"dataframe\">\n",
       "  <thead>\n",
       "    <tr style=\"text-align: right;\">\n",
       "      <th></th>\n",
       "      <th>OrderId</th>\n",
       "      <th>Id</th>\n",
       "      <th>OrderDate</th>\n",
       "    </tr>\n",
       "  </thead>\n",
       "  <tbody>\n",
       "    <tr>\n",
       "      <th>0</th>\n",
       "      <td>1001</td>\n",
       "      <td>1</td>\n",
       "      <td>2022-08-01</td>\n",
       "    </tr>\n",
       "    <tr>\n",
       "      <th>1</th>\n",
       "      <td>1002</td>\n",
       "      <td>2</td>\n",
       "      <td>2021-02-12</td>\n",
       "    </tr>\n",
       "    <tr>\n",
       "      <th>2</th>\n",
       "      <td>1003</td>\n",
       "      <td>3</td>\n",
       "      <td>2012-12-14</td>\n",
       "    </tr>\n",
       "    <tr>\n",
       "      <th>3</th>\n",
       "      <td>1004</td>\n",
       "      <td>4</td>\n",
       "      <td>2008-02-13</td>\n",
       "    </tr>\n",
       "    <tr>\n",
       "      <th>4</th>\n",
       "      <td>1005</td>\n",
       "      <td>5</td>\n",
       "      <td>2016-04-12</td>\n",
       "    </tr>\n",
       "  </tbody>\n",
       "</table>\n",
       "</div>"
      ],
      "text/plain": [
       "   OrderId  Id   OrderDate\n",
       "0     1001   1  2022-08-01\n",
       "1     1002   2  2021-02-12\n",
       "2     1003   3  2012-12-14\n",
       "3     1004   4  2008-02-13\n",
       "4     1005   5  2016-04-12"
      ]
     },
     "execution_count": 8,
     "metadata": {},
     "output_type": "execute_result"
    }
   ],
   "source": [
    "df_orders"
   ]
  },
  {
   "cell_type": "code",
   "execution_count": 9,
   "id": "5d56fda7",
   "metadata": {},
   "outputs": [
    {
     "name": "stdout",
     "output_type": "stream",
     "text": [
      "   Id FistName LastName  OrderId   OrderDate\n",
      "0   1     xxxx     aaaa     1001  2022-08-01\n",
      "1   2     yyyy     bbbb     1002  2021-02-12\n",
      "2   3     zzzz     cccc     1003  2012-12-14\n"
     ]
    }
   ],
   "source": [
    "inner_result = pd.merge(df_customer, df_orders, how=\"inner\")          #Gives the intersection of the data\n",
    "print(inner_result)  "
   ]
  },
  {
   "cell_type": "code",
   "execution_count": 10,
   "id": "2155e311",
   "metadata": {},
   "outputs": [
    {
     "name": "stdout",
     "output_type": "stream",
     "text": [
      "   Id FistName LastName  OrderId   OrderDate\n",
      "0   1     xxxx     aaaa     1001  2022-08-01\n",
      "1   2     yyyy     bbbb     1002  2021-02-12\n",
      "2   3     zzzz     cccc     1003  2012-12-14\n",
      "3   4      NaN      NaN     1004  2008-02-13\n",
      "4   5      NaN      NaN     1005  2016-04-12\n"
     ]
    }
   ],
   "source": [
    "outer_result = pd.merge(df_customer, df_orders, how=\"outer\")     #Gives all the data\n",
    "print(outer_result)"
   ]
  },
  {
   "cell_type": "code",
   "execution_count": 11,
   "id": "e37cb45a",
   "metadata": {},
   "outputs": [
    {
     "name": "stdout",
     "output_type": "stream",
     "text": [
      "   Id FistName LastName  OrderId   OrderDate\n",
      "0   1     xxxx     aaaa     1001  2022-08-01\n",
      "1   2     yyyy     bbbb     1002  2021-02-12\n",
      "2   3     zzzz     cccc     1003  2012-12-14\n"
     ]
    }
   ],
   "source": [
    "left_result = pd.merge(df_customer, df_orders, how=\"left\")  #The intersection of the data and the left gives the entire data\n",
    "print(left_result)"
   ]
  },
  {
   "cell_type": "code",
   "execution_count": 13,
   "id": "689240de",
   "metadata": {},
   "outputs": [
    {
     "name": "stdout",
     "output_type": "stream",
     "text": [
      "   Id FistName LastName  OrderId   OrderDate\n",
      "0   1     xxxx     aaaa     1001  2022-08-01\n",
      "1   2     yyyy     bbbb     1002  2021-02-12\n",
      "2   3     zzzz     cccc     1003  2012-12-14\n",
      "3   4      NaN      NaN     1004  2008-02-13\n",
      "4   5      NaN      NaN     1005  2016-04-12\n"
     ]
    }
   ],
   "source": [
    "right_result = pd.merge(df_customer, df_orders, how=\"right\")#The intersection of the data and the right gives the entire data\n",
    "print(right_result)"
   ]
  },
  {
   "cell_type": "code",
   "execution_count": null,
   "id": "c38706d7",
   "metadata": {},
   "outputs": [],
   "source": []
  }
 ],
 "metadata": {
  "kernelspec": {
   "display_name": "Python 3 (ipykernel)",
   "language": "python",
   "name": "python3"
  },
  "language_info": {
   "codemirror_mode": {
    "name": "ipython",
    "version": 3
   },
   "file_extension": ".py",
   "mimetype": "text/x-python",
   "name": "python",
   "nbconvert_exporter": "python",
   "pygments_lexer": "ipython3",
   "version": "3.9.12"
  }
 },
 "nbformat": 4,
 "nbformat_minor": 5
}
