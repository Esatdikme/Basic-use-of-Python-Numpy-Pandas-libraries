{
 "cells": [
  {
   "cell_type": "code",
   "execution_count": 22,
   "id": "0e57e37c",
   "metadata": {},
   "outputs": [],
   "source": [
    "import pandas as pd\n",
    "import numpy as np"
   ]
  },
  {
   "cell_type": "code",
   "execution_count": 23,
   "id": "75b71583",
   "metadata": {},
   "outputs": [],
   "source": [
    "number=[5,50,43,90]\n",
    "dictinary={\"x\":10,\"y\":20,\"z\":30}\n",
    "np_array=np.array([5,50,43,90])"
   ]
  },
  {
   "cell_type": "code",
   "execution_count": 24,
   "id": "2ad90fbc",
   "metadata": {},
   "outputs": [
    {
     "name": "stdout",
     "output_type": "stream",
     "text": [
      "0     5\n",
      "1    50\n",
      "2    43\n",
      "3    90\n",
      "dtype: int64\n"
     ]
    }
   ],
   "source": [
    "pd_series=pd.Series(number)\n",
    "print(pd_series)"
   ]
  },
  {
   "cell_type": "code",
   "execution_count": 25,
   "id": "3950d031",
   "metadata": {},
   "outputs": [
    {
     "name": "stdout",
     "output_type": "stream",
     "text": [
      "x    10\n",
      "y    20\n",
      "z    30\n",
      "dtype: int64\n"
     ]
    }
   ],
   "source": [
    "pd_series=pd.Series(dictinary)\n",
    "print(pd_series)"
   ]
  },
  {
   "cell_type": "code",
   "execution_count": 26,
   "id": "f2e9e070",
   "metadata": {},
   "outputs": [
    {
     "name": "stdout",
     "output_type": "stream",
     "text": [
      "0     5\n",
      "1    50\n",
      "2    43\n",
      "3    90\n",
      "dtype: int32\n"
     ]
    }
   ],
   "source": [
    "pd_series=pd.Series(np_array)\n",
    "print(pd_series)"
   ]
  },
  {
   "cell_type": "code",
   "execution_count": 27,
   "id": "0e057276",
   "metadata": {},
   "outputs": [
    {
     "name": "stdout",
     "output_type": "stream",
     "text": [
      "1\n"
     ]
    }
   ],
   "source": [
    "print(pd_series.ndim)"
   ]
  },
  {
   "cell_type": "code",
   "execution_count": 28,
   "id": "0b07a508",
   "metadata": {},
   "outputs": [
    {
     "name": "stdout",
     "output_type": "stream",
     "text": [
      "int32\n"
     ]
    }
   ],
   "source": [
    "print(pd_series.dtype)"
   ]
  },
  {
   "cell_type": "code",
   "execution_count": 29,
   "id": "7d39985e",
   "metadata": {},
   "outputs": [
    {
     "name": "stdout",
     "output_type": "stream",
     "text": [
      "(4,)\n"
     ]
    }
   ],
   "source": [
    "print(pd_series.shape) "
   ]
  },
  {
   "cell_type": "code",
   "execution_count": 30,
   "id": "436ec3f7",
   "metadata": {},
   "outputs": [
    {
     "name": "stdout",
     "output_type": "stream",
     "text": [
      "count     4.000000\n",
      "mean     47.000000\n",
      "std      34.823364\n",
      "min       5.000000\n",
      "25%      33.500000\n",
      "50%      46.500000\n",
      "75%      60.000000\n",
      "max      90.000000\n",
      "dtype: float64\n"
     ]
    }
   ],
   "source": [
    "print(pd_series.describe()) "
   ]
  },
  {
   "cell_type": "code",
   "execution_count": 31,
   "id": "f67d82b4",
   "metadata": {},
   "outputs": [
    {
     "name": "stdout",
     "output_type": "stream",
     "text": [
      "0     5\n",
      "1    50\n",
      "dtype: int32\n"
     ]
    }
   ],
   "source": [
    "print(pd_series.head(2))"
   ]
  },
  {
   "cell_type": "code",
   "execution_count": 32,
   "id": "5d818a6b",
   "metadata": {},
   "outputs": [
    {
     "name": "stdout",
     "output_type": "stream",
     "text": [
      "188\n"
     ]
    }
   ],
   "source": [
    "print(pd_series.sum())"
   ]
  },
  {
   "cell_type": "code",
   "execution_count": 33,
   "id": "22d518b5",
   "metadata": {},
   "outputs": [
    {
     "name": "stdout",
     "output_type": "stream",
     "text": [
      "0    False\n",
      "1     True\n",
      "2     True\n",
      "3     True\n",
      "dtype: bool\n"
     ]
    }
   ],
   "source": [
    "print(pd_series>=30)"
   ]
  },
  {
   "cell_type": "code",
   "execution_count": 35,
   "id": "e9193e47",
   "metadata": {},
   "outputs": [
    {
     "name": "stdout",
     "output_type": "stream",
     "text": [
      "0    False\n",
      "1     True\n",
      "2    False\n",
      "3     True\n",
      "dtype: bool\n"
     ]
    }
   ],
   "source": [
    "print(pd_series%2==0)"
   ]
  },
  {
   "cell_type": "code",
   "execution_count": 36,
   "id": "0e321731",
   "metadata": {},
   "outputs": [
    {
     "name": "stdout",
     "output_type": "stream",
     "text": [
      "      0   1\n",
      "0  xxxx  10\n",
      "1  yyyy  50\n",
      "2  zzzz  90\n"
     ]
    }
   ],
   "source": [
    "datalist=[[\"xxxx\",10],[\"yyyy\",50],[\"zzzz\",90]]\n",
    "df=pd.DataFrame(datalist)\n",
    "print(df)"
   ]
  },
  {
   "cell_type": "code",
   "execution_count": 37,
   "id": "59b072ac",
   "metadata": {},
   "outputs": [
    {
     "name": "stdout",
     "output_type": "stream",
     "text": [
      "   name  point\n",
      "0  xxxx     10\n",
      "1  yyyy     50\n",
      "2  zzzz     90\n"
     ]
    }
   ],
   "source": [
    "datadict={\"name\":[\"xxxx\",\"yyyy\",\"zzzz\"],\n",
    "         \"point\":[10,50,90]}\n",
    "df=pd.DataFrame(datadict)\n",
    "print(df)"
   ]
  },
  {
   "cell_type": "code",
   "execution_count": null,
   "id": "77aaf9eb",
   "metadata": {},
   "outputs": [],
   "source": []
  }
 ],
 "metadata": {
  "kernelspec": {
   "display_name": "Python 3 (ipykernel)",
   "language": "python",
   "name": "python3"
  },
  "language_info": {
   "codemirror_mode": {
    "name": "ipython",
    "version": 3
   },
   "file_extension": ".py",
   "mimetype": "text/x-python",
   "name": "python",
   "nbconvert_exporter": "python",
   "pygments_lexer": "ipython3",
   "version": "3.9.12"
  }
 },
 "nbformat": 4,
 "nbformat_minor": 5
}
