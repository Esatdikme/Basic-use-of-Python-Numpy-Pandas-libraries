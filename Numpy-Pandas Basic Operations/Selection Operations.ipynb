{
 "cells": [
  {
   "cell_type": "code",
   "execution_count": 3,
   "id": "04e98d46",
   "metadata": {},
   "outputs": [],
   "source": [
    "import pandas as pd\n",
    "import numpy as np"
   ]
  },
  {
   "cell_type": "code",
   "execution_count": 4,
   "id": "70e0dcdd",
   "metadata": {},
   "outputs": [
    {
     "name": "stdout",
     "output_type": "stream",
     "text": [
      "    column1   column2   column3\n",
      "A  1.433660  1.568211  1.709311\n",
      "B  0.071798 -0.783502  2.738703\n",
      "C  1.470852  0.768433 -0.199380\n",
      "D -0.865064 -2.272943 -1.123261\n"
     ]
    }
   ],
   "source": [
    "df=pd.DataFrame(np.random.randn(4,3),index=[\"A\",\"B\",\"C\",\"D\"],columns=[\"column1\",\"column2\",\"column3\"])\n",
    "print(df)"
   ]
  },
  {
   "cell_type": "code",
   "execution_count": 5,
   "id": "ec459d9a",
   "metadata": {},
   "outputs": [
    {
     "name": "stdout",
     "output_type": "stream",
     "text": [
      "A    1.433660\n",
      "B    0.071798\n",
      "C    1.470852\n",
      "D   -0.865064\n",
      "Name: column1, dtype: float64\n"
     ]
    }
   ],
   "source": [
    "print(df.column1)"
   ]
  },
  {
   "cell_type": "code",
   "execution_count": 7,
   "id": "1234b11f",
   "metadata": {},
   "outputs": [
    {
     "name": "stdout",
     "output_type": "stream",
     "text": [
      "        column1   column2   column3\n",
      "count  4.000000  4.000000  4.000000\n",
      "mean   0.527811 -0.179950  0.781343\n",
      "std    1.134010  1.702977  1.758950\n",
      "min   -0.865064 -2.272943 -1.123261\n",
      "25%   -0.162418 -1.155862 -0.430350\n",
      "50%    0.752729 -0.007535  0.754965\n",
      "75%    1.442958  0.968377  1.966659\n",
      "max    1.470852  1.568211  2.738703\n"
     ]
    }
   ],
   "source": [
    "print(df.describe())"
   ]
  },
  {
   "cell_type": "code",
   "execution_count": 8,
   "id": "64d6ecd7",
   "metadata": {},
   "outputs": [
    {
     "name": "stdout",
     "output_type": "stream",
     "text": [
      "(4, 3)\n"
     ]
    }
   ],
   "source": [
    "print(df.shape)"
   ]
  },
  {
   "cell_type": "code",
   "execution_count": 9,
   "id": "6703fa09",
   "metadata": {},
   "outputs": [
    {
     "name": "stdout",
     "output_type": "stream",
     "text": [
      "column1    1.470852\n",
      "column2    0.768433\n",
      "column3   -0.199380\n",
      "Name: C, dtype: float64\n"
     ]
    }
   ],
   "source": [
    "print(df.loc[\"C\"])"
   ]
  },
  {
   "cell_type": "code",
   "execution_count": 16,
   "id": "31b5cb69",
   "metadata": {},
   "outputs": [
    {
     "name": "stdout",
     "output_type": "stream",
     "text": [
      "0.7684327718323102\n"
     ]
    }
   ],
   "source": [
    "print(df.loc[\"C\",\"column2\"])"
   ]
  },
  {
   "cell_type": "code",
   "execution_count": 17,
   "id": "e95dd46a",
   "metadata": {},
   "outputs": [
    {
     "name": "stdout",
     "output_type": "stream",
     "text": [
      "B   -0.783502\n",
      "C    0.768433\n",
      "Name: column2, dtype: float64\n"
     ]
    }
   ],
   "source": [
    "print(df.loc[[\"B\",\"C\"],\"column2\"])"
   ]
  },
  {
   "cell_type": "code",
   "execution_count": 13,
   "id": "cfaed7ba",
   "metadata": {},
   "outputs": [
    {
     "name": "stdout",
     "output_type": "stream",
     "text": [
      "    column1   column3\n",
      "A  1.433660  1.709311\n",
      "B  0.071798  2.738703\n",
      "C  1.470852 -0.199380\n",
      "D -0.865064 -1.123261\n"
     ]
    }
   ],
   "source": [
    "print(df.loc[:,[\"column1\",\"column3\",]])"
   ]
  },
  {
   "cell_type": "code",
   "execution_count": 20,
   "id": "e4a44ae1",
   "metadata": {},
   "outputs": [
    {
     "name": "stdout",
     "output_type": "stream",
     "text": [
      "column1    1.470852\n",
      "column2    0.768433\n",
      "column3   -0.199380\n",
      "Name: C, dtype: float64\n"
     ]
    }
   ],
   "source": [
    "print(df.iloc[-2])"
   ]
  },
  {
   "cell_type": "code",
   "execution_count": 21,
   "id": "573de17b",
   "metadata": {},
   "outputs": [
    {
     "name": "stdout",
     "output_type": "stream",
     "text": [
      "    column1   column2   column3   column4\n",
      "A  1.433660  1.568211  1.709311  3.142971\n",
      "B  0.071798 -0.783502  2.738703  2.810501\n",
      "C  1.470852  0.768433 -0.199380  1.271471\n",
      "D -0.865064 -2.272943 -1.123261 -1.988325\n"
     ]
    }
   ],
   "source": [
    "df[\"column4\"]=df[\"column1\"]+df[\"column3\"]\n",
    "print(df)"
   ]
  },
  {
   "cell_type": "code",
   "execution_count": 23,
   "id": "3cb65e99",
   "metadata": {},
   "outputs": [
    {
     "name": "stdout",
     "output_type": "stream",
     "text": [
      "    column1   column2   column4\n",
      "A  1.433660  1.568211  3.142971\n",
      "B  0.071798 -0.783502  2.810501\n",
      "C  1.470852  0.768433  1.271471\n",
      "D -0.865064 -2.272943 -1.988325\n"
     ]
    }
   ],
   "source": [
    "df.drop(\"column3\",inplace=True,axis=1)\n",
    "print(df)"
   ]
  },
  {
   "cell_type": "code",
   "execution_count": 24,
   "id": "b5bb65ce",
   "metadata": {},
   "outputs": [
    {
     "name": "stdout",
     "output_type": "stream",
     "text": [
      "    column1   column2   column4\n",
      "A  1.433660  1.568211  3.142971\n",
      "C  1.470852  0.768433  1.271471\n",
      "D -0.865064 -2.272943 -1.988325\n"
     ]
    }
   ],
   "source": [
    "df.drop(\"B\",inplace=True,axis=0)\n",
    "print(df)"
   ]
  }
 ],
 "metadata": {
  "kernelspec": {
   "display_name": "Python 3 (ipykernel)",
   "language": "python",
   "name": "python3"
  },
  "language_info": {
   "codemirror_mode": {
    "name": "ipython",
    "version": 3
   },
   "file_extension": ".py",
   "mimetype": "text/x-python",
   "name": "python",
   "nbconvert_exporter": "python",
   "pygments_lexer": "ipython3",
   "version": "3.9.12"
  }
 },
 "nbformat": 4,
 "nbformat_minor": 5
}
