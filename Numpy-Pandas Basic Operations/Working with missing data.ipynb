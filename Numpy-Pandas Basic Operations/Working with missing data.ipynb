{
 "cells": [
  {
   "cell_type": "code",
   "execution_count": 10,
   "id": "e8776346",
   "metadata": {},
   "outputs": [],
   "source": [
    "import numpy as np\n",
    "import pandas as pd"
   ]
  },
  {
   "cell_type": "code",
   "execution_count": 20,
   "id": "17d81a25",
   "metadata": {},
   "outputs": [
    {
     "name": "stdout",
     "output_type": "stream",
     "text": [
      "   column1  column2  column3\n",
      "A      867      715      122\n",
      "B      437      942      915\n",
      "C      945      638      263\n",
      "D      932      116      318\n"
     ]
    }
   ],
   "source": [
    "data=np.random.randint(10,1000,12).reshape(4,3)\n",
    "df=pd.DataFrame(data, index=[\"A\",\"B\",\"C\",\"D\"],columns=[\"column1\",\"column2\",\"column3\"])\n",
    "print(df)"
   ]
  },
  {
   "cell_type": "code",
   "execution_count": 50,
   "id": "aeeb18bc",
   "metadata": {},
   "outputs": [
    {
     "data": {
      "text/html": [
       "<div>\n",
       "<style scoped>\n",
       "    .dataframe tbody tr th:only-of-type {\n",
       "        vertical-align: middle;\n",
       "    }\n",
       "\n",
       "    .dataframe tbody tr th {\n",
       "        vertical-align: top;\n",
       "    }\n",
       "\n",
       "    .dataframe thead th {\n",
       "        text-align: right;\n",
       "    }\n",
       "</style>\n",
       "<table border=\"1\" class=\"dataframe\">\n",
       "  <thead>\n",
       "    <tr style=\"text-align: right;\">\n",
       "      <th></th>\n",
       "      <th>column1</th>\n",
       "      <th>column2</th>\n",
       "      <th>column3</th>\n",
       "      <th>column4</th>\n",
       "      <th>column5</th>\n",
       "    </tr>\n",
       "  </thead>\n",
       "  <tbody>\n",
       "    <tr>\n",
       "      <th>A</th>\n",
       "      <td>867</td>\n",
       "      <td>715</td>\n",
       "      <td>122</td>\n",
       "      <td>423.0</td>\n",
       "      <td>789.0</td>\n",
       "    </tr>\n",
       "    <tr>\n",
       "      <th>B</th>\n",
       "      <td>437</td>\n",
       "      <td>942</td>\n",
       "      <td>915</td>\n",
       "      <td>NaN</td>\n",
       "      <td>NaN</td>\n",
       "    </tr>\n",
       "    <tr>\n",
       "      <th>C</th>\n",
       "      <td>945</td>\n",
       "      <td>638</td>\n",
       "      <td>263</td>\n",
       "      <td>23.0</td>\n",
       "      <td>495.0</td>\n",
       "    </tr>\n",
       "    <tr>\n",
       "      <th>D</th>\n",
       "      <td>932</td>\n",
       "      <td>116</td>\n",
       "      <td>318</td>\n",
       "      <td>765.0</td>\n",
       "      <td>NaN</td>\n",
       "    </tr>\n",
       "  </tbody>\n",
       "</table>\n",
       "</div>"
      ],
      "text/plain": [
       "   column1  column2  column3  column4  column5\n",
       "A      867      715      122    423.0    789.0\n",
       "B      437      942      915      NaN      NaN\n",
       "C      945      638      263     23.0    495.0\n",
       "D      932      116      318    765.0      NaN"
      ]
     },
     "execution_count": 50,
     "metadata": {},
     "output_type": "execute_result"
    }
   ],
   "source": [
    "df[\"column4\"]=[423,np.nan,23,765]\n",
    "df[\"column5\"]=[789,np.nan,495,np.nan]\n",
    "df"
   ]
  },
  {
   "cell_type": "code",
   "execution_count": 51,
   "id": "2e204470",
   "metadata": {},
   "outputs": [
    {
     "name": "stdout",
     "output_type": "stream",
     "text": [
      "   column1  column2  column3  column4  column5\n",
      "A    False    False    False    False    False\n",
      "B    False    False    False     True     True\n",
      "C    False    False    False    False    False\n",
      "D    False    False    False    False     True\n"
     ]
    }
   ],
   "source": [
    "\"\"\"The \"Nan\" values in the data set are filled with the \"True\" and False\" values\"\"\"\n",
    "\n",
    "\n",
    "print(df.isnull())"
   ]
  },
  {
   "cell_type": "code",
   "execution_count": 52,
   "id": "02e43303",
   "metadata": {},
   "outputs": [
    {
     "name": "stdout",
     "output_type": "stream",
     "text": [
      "column1    0\n",
      "column2    0\n",
      "column3    0\n",
      "column4    1\n",
      "column5    2\n",
      "dtype: int64\n"
     ]
    }
   ],
   "source": [
    "\"\"\"Gives the sum of the number of \"Nan\" values in the columns\"\"\"\n",
    "\n",
    "print(df.isnull().sum())"
   ]
  },
  {
   "cell_type": "code",
   "execution_count": 53,
   "id": "e3240d60",
   "metadata": {},
   "outputs": [
    {
     "name": "stdout",
     "output_type": "stream",
     "text": [
      "3\n"
     ]
    }
   ],
   "source": [
    "\"\"\"Gives the sum of the number of non-\"Nan\" values in the columns\"\"\"\n",
    "\n",
    "print(df.notnull().sum()[\"column4\"])"
   ]
  },
  {
   "cell_type": "code",
   "execution_count": 54,
   "id": "f6c7d135",
   "metadata": {},
   "outputs": [
    {
     "name": "stdout",
     "output_type": "stream",
     "text": [
      "   column1  column2  column3  column4  column5\n",
      "A      867      715      122    423.0    789.0\n",
      "B      437      942      915    500.0    500.0\n",
      "C      945      638      263     23.0    495.0\n",
      "D      932      116      318    765.0    500.0\n"
     ]
    }
   ],
   "source": [
    "\"\"\"Makes the \"Nan\" values found in the data 500\"\"\"\n",
    "\n",
    "df=df.fillna(value=500)\n",
    "print(df)"
   ]
  },
  {
   "cell_type": "code",
   "execution_count": 55,
   "id": "fb17450f",
   "metadata": {},
   "outputs": [
    {
     "name": "stdout",
     "output_type": "stream",
     "text": [
      "   column1  column2  column3  column4  column5\n",
      "A      867      715      122    423.0    789.0\n",
      "B      437      942      915    500.0    500.0\n",
      "C      945      638      263     23.0    495.0\n",
      "D      932      116      318    765.0    500.0\n"
     ]
    }
   ],
   "source": [
    "\"\"\"We deleted the lines with \"Nan\" value in the data\"\"\"\n",
    "\n",
    "df=df.dropna()\n",
    "print(df)"
   ]
  },
  {
   "cell_type": "code",
   "execution_count": null,
   "id": "1dc7be79",
   "metadata": {},
   "outputs": [],
   "source": []
  }
 ],
 "metadata": {
  "kernelspec": {
   "display_name": "Python 3 (ipykernel)",
   "language": "python",
   "name": "python3"
  },
  "language_info": {
   "codemirror_mode": {
    "name": "ipython",
    "version": 3
   },
   "file_extension": ".py",
   "mimetype": "text/x-python",
   "name": "python",
   "nbconvert_exporter": "python",
   "pygments_lexer": "ipython3",
   "version": "3.9.12"
  }
 },
 "nbformat": 4,
 "nbformat_minor": 5
}
